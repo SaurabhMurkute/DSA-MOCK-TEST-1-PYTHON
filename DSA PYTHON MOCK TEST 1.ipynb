{
 "cells": [
  {
   "cell_type": "code",
   "execution_count": 2,
   "id": "f4a74a04-bd72-4c56-8abb-1c124bfc1bfb",
   "metadata": {},
   "outputs": [],
   "source": [
    "def moveZeroes(nums):\n",
    "    zero_ptr = 0  \n",
    "\n",
    "    for i in range(len(nums)):\n",
    "        if nums[i] != 0:\n",
    "            nums[zero_ptr] = nums[i]\n",
    "            zero_ptr += 1\n",
    "\n",
    "    while zero_ptr < len(nums):\n",
    "        nums[zero_ptr] = 0\n",
    "        zero_ptr += 1\n",
    "\n",
    "    return nums\n"
   ]
  },
  {
   "cell_type": "code",
   "execution_count": 3,
   "id": "6564853d-47c1-4e3e-b0ce-8e00112991c5",
   "metadata": {},
   "outputs": [
    {
     "name": "stdout",
     "output_type": "stream",
     "text": [
      "[1, 3, 12, 0, 0]\n"
     ]
    }
   ],
   "source": [
    "nums = [0, 1, 0, 3, 12]\n",
    "print(moveZeroes(nums))\n"
   ]
  },
  {
   "cell_type": "code",
   "execution_count": 4,
   "id": "d0bec9c4-ae7e-47d9-95e8-eeae2de620be",
   "metadata": {},
   "outputs": [
    {
     "name": "stdout",
     "output_type": "stream",
     "text": [
      "[0]\n"
     ]
    }
   ],
   "source": [
    "nums = [0]\n",
    "print(moveZeroes(nums))\n"
   ]
  },
  {
   "cell_type": "code",
   "execution_count": null,
   "id": "fa8d804e-d4f4-49bc-8776-46ccdb37e6c9",
   "metadata": {},
   "outputs": [],
   "source": []
  }
 ],
 "metadata": {
  "kernelspec": {
   "display_name": "Python 3 (ipykernel)",
   "language": "python",
   "name": "python3"
  },
  "language_info": {
   "codemirror_mode": {
    "name": "ipython",
    "version": 3
   },
   "file_extension": ".py",
   "mimetype": "text/x-python",
   "name": "python",
   "nbconvert_exporter": "python",
   "pygments_lexer": "ipython3",
   "version": "3.10.6"
  }
 },
 "nbformat": 4,
 "nbformat_minor": 5
}
