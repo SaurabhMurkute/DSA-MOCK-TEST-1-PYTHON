{
 "cells": [
  {
   "cell_type": "code",
   "execution_count": 1,
   "id": "e294ff35-7e4a-45f7-927d-51e2f048b024",
   "metadata": {},
   "outputs": [],
   "source": [
    "def firstUniqChar(s):\n",
    "    char_count = {}  \n",
    "\n",
    "\n",
    "    for char in s:\n",
    "        char_count[char] = char_count.get(char, 0) + 1\n",
    "\n",
    "    for i in range(len(s)):\n",
    "        if char_count[s[i]] == 1:\n",
    "            return i\n",
    "    return -1\n"
   ]
  },
  {
   "cell_type": "code",
   "execution_count": 2,
   "id": "256e12b4-78fa-429c-adbf-8db61b016e13",
   "metadata": {},
   "outputs": [
    {
     "name": "stdout",
     "output_type": "stream",
     "text": [
      "0\n"
     ]
    }
   ],
   "source": [
    "s = \"leetcode\"\n",
    "print(firstUniqChar(s))\n"
   ]
  },
  {
   "cell_type": "code",
   "execution_count": 3,
   "id": "160aca5e-6b24-464c-a9ea-0ceab32056c0",
   "metadata": {},
   "outputs": [
    {
     "name": "stdout",
     "output_type": "stream",
     "text": [
      "2\n"
     ]
    }
   ],
   "source": [
    "s = \"loveleetcode\"\n",
    "print(firstUniqChar(s))\n"
   ]
  },
  {
   "cell_type": "code",
   "execution_count": 4,
   "id": "50777670-5f42-44c7-9b04-bf472e87d72f",
   "metadata": {},
   "outputs": [
    {
     "name": "stdout",
     "output_type": "stream",
     "text": [
      "-1\n"
     ]
    }
   ],
   "source": [
    "s = \"aabb\"\n",
    "print(firstUniqChar(s))\n"
   ]
  },
  {
   "cell_type": "code",
   "execution_count": null,
   "id": "df50a773-c810-498a-90b3-f045dbd13b9d",
   "metadata": {},
   "outputs": [],
   "source": []
  }
 ],
 "metadata": {
  "kernelspec": {
   "display_name": "Python 3 (ipykernel)",
   "language": "python",
   "name": "python3"
  },
  "language_info": {
   "codemirror_mode": {
    "name": "ipython",
    "version": 3
   },
   "file_extension": ".py",
   "mimetype": "text/x-python",
   "name": "python",
   "nbconvert_exporter": "python",
   "pygments_lexer": "ipython3",
   "version": "3.10.6"
  }
 },
 "nbformat": 4,
 "nbformat_minor": 5
}
